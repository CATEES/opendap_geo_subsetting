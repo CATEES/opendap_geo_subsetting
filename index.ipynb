{
 "cells": [
  {
   "cell_type": "markdown",
   "metadata": {
    "ein.tags": [
     "worksheet-0"
    ]
   },
   "source": [
    "<p style=\"float:right\">\n",
    "<img src=\"nasa.png\" style=\"display:inline\" />\n",
    "</p>\n",
    "\n",
    "# Geographical Subsetting with OPeNDAP"
   ]
  },
  {
   "cell_type": "markdown",
   "metadata": {
    "ein.tags": [
     "worksheet-0"
    ]
   },
   "source": [
    "For this demonstration, we will examine the [_MEaSUREs Northern Hemisphere Terrestrial Snow Cover Extent Daily 25km EASE-Grid 2.0_](http://nsidc.org/data/docs/measures/nsidc-0530/) dataset from the [NASA MEaSUREs project](https://earthdata.nasa.gov/community/community-data-system-programs/measures-projects). This dataset is managed by [NSIDC DAAC](http://nsidc.org/data/measures/) and made available via, among other methods, the [OPeNDAP](https://en.wikipedia.org/wiki/OPeNDAP) protocol."
   ]
  },
  {
   "cell_type": "markdown",
   "metadata": {},
   "source": [
    "### Determining grid coordinates for a geographical area"
   ]
  },
  {
   "cell_type": "markdown",
   "metadata": {},
   "source": [
    "Let's say that we're interested only in data pertaining to Iceland. We can definte geographical bounds for our area of interest:"
   ]
  },
  {
   "cell_type": "code",
   "execution_count": null,
   "metadata": {
    "collapsed": true
   },
   "outputs": [],
   "source": [
    "bounds = {'n': 67, 's': 63, 'e': -13, 'w': -25, }\n",
    "#lat_south = 63\n",
    "#lat_north = 67\n",
    "#lon_west = -25\n",
    "#lon_east = -13"
   ]
  },
  {
   "cell_type": "markdown",
   "metadata": {},
   "source": [
    "As in the notebook _Variable Subsetting with OPeNDAP_, we will use the Python `netCDF4` package's built-in OPeNDAP client to access snow-cover data from June 1, 2012. In this case, we will request only the **latitude** and **longitude** variables:"
   ]
  },
  {
   "cell_type": "code",
   "execution_count": null,
   "metadata": {
    "collapsed": false
   },
   "outputs": [],
   "source": [
    "import netCDF4\n",
    "\n",
    "url0 = (\n",
    "    'http://n5eil01u.ecs.nsidc.org:80/opendap/'\n",
    "    'MEASURES/NSIDC-0530.001/2012.06.01/nhtsd25e2_20120601_v01r01.nc?'\n",
    "    'latitude[0:1:719][0:1:719],'\n",
    "    'longitude[0:1:719][0:1:719]'\n",
    ")\n",
    "\n",
    "dataset0 = netCDF4.Dataset(url0)\n",
    "\n",
    "for v in dataset0.variables:\n",
    "    print(v, dataset0.variables[v].shape)"
   ]
  },
  {
   "cell_type": "markdown",
   "metadata": {},
   "source": [
    "Instead of full 720 x 720 grids, we would like to constrain future OPeNDAP requests so that they return data only for the Iceland area. To do so, we'll use NumPy to obtain lists of grid rows and columns where both `latitude` and `longitude` values fall within the defined Iceland area, then take the minima and maxima of each list to construct bounding-box values we can pass to OPeNDAP:"
   ]
  },
  {
   "cell_type": "code",
   "execution_count": null,
   "metadata": {
    "collapsed": false
   },
   "outputs": [],
   "source": [
    "import numpy as np\n",
    "\n",
    "lat = dataset0.variables['latitude'][:, :]\n",
    "lon = dataset0.variables['longitude'][:, :]\n",
    "row, col = np.where((lat >= bounds['s']) & (lat <= bounds['n']) & (lon >= bounds['w']) & (lon <= bounds['e']))\n",
    "bbox = np.min(row), np.max(row), np.min(col), np.max(col)\n",
    "print(bbox)"
   ]
  },
  {
   "cell_type": "markdown",
   "metadata": {},
   "source": [
    "Now we can use our bounding-box values as constraints in our OPeNDAP URL to select just the rows and columnsthat correspond to Iceland. The OPeNDAP constraints are given in `lower_bound:stride:upper_bound` form:"
   ]
  },
  {
   "cell_type": "code",
   "execution_count": null,
   "metadata": {
    "collapsed": false
   },
   "outputs": [],
   "source": [
    "url1 = (\n",
    "    'http://n5eil01u.ecs.nsidc.org/opendap/'\n",
    "    'MEASURES/NSIDC-0530.001/2012.06.01/nhtsd25e2_20120601_v01r01.nc?'\n",
    "    'latitude[453:1:475][310:1:336],'\n",
    "    'longitude[453:1:475][310:1:336],'\n",
    "    'merged_snow_cover_extent[0:1:0][453:1:475][310:1:336]'\n",
    ")\n",
    "\n",
    "dataset1 = netCDF4.Dataset(url1)\n",
    "\n",
    "for v in dataset1.variables:\n",
    "    print(v, dataset1.variables[v].shape)"
   ]
  },
  {
   "cell_type": "markdown",
   "metadata": {},
   "source": [
    "That's a lot less data!\n",
    "\n",
    "Finally, we can plot our data on a map of Iceland, using code similar to that shown in the notebook _Variable Subsetting with OPeNDAP_:"
   ]
  },
  {
   "cell_type": "code",
   "execution_count": null,
   "metadata": {
    "collapsed": false
   },
   "outputs": [],
   "source": [
    "%matplotlib inline\n",
    "from mpl_toolkits.basemap import Basemap\n",
    "import matplotlib.pyplot as plt\n",
    "\n",
    "def snow_ice_plot(snow_ice_map, lat, lon, condition, color, size=1):\n",
    "    row, col = np.where(condition)\n",
    "    x, y = snow_ice_map(lon[row, col], lat[row, col])\n",
    "    snow_ice_map.scatter(x, y, s=size, color=color)\n",
    "\n",
    "lat0 = dataset1.variables['latitude'][:, :]\n",
    "lon0 = dataset1.variables['longitude'][:, :]\n",
    "msce_jan = dataset1.variables['merged_snow_cover_extent'][0, :, :]\n",
    "\n",
    "plt.figure(figsize=(10, 10))\n",
    "iceland_jan = Basemap(\n",
    "    projection='merc',\n",
    "    resolution='i',\n",
    "    urcrnrlat=bounds['n'],\n",
    "    llcrnrlat=bounds['s'],\n",
    "    urcrnrlon=bounds['e'],\n",
    "    llcrnrlon=bounds['w'],\n",
    ")\n",
    "iceland_jan.drawcoastlines()\n",
    "\n",
    "snow_ice_plot(iceland_jan, lat0, lon0, (msce_jan >= 10) & (msce_jan <= 16), 'Cyan', 500)\n",
    "snow_ice_plot(iceland_jan, lat0, lon0, msce_jan == 30, 'Blue', 500)"
   ]
  },
  {
   "cell_type": "markdown",
   "metadata": {},
   "source": [
    "### Using a data-access class"
   ]
  },
  {
   "cell_type": "markdown",
   "metadata": {},
   "source": [
    "As a simplification, we can make use of a prebuilt Pyhton class, `NSIDC0530`, to access remote data. The class constructor takes year, date and month arguments, as well as an optional list of desired variables. (Note that the `latitude` and `longitude` variables are provided with the class and need not be requested.) A second optional argument specifies a dict of east-longitude, west-longitude, south-latitude and north-latitude bounds\n",
    "\n",
    "Here, we request the `merged_snow_cover_extent` data for September 1, 2012, then plot it with code otherwise nearly identical to that used in the previous example:"
   ]
  },
  {
   "cell_type": "code",
   "execution_count": null,
   "metadata": {
    "collapsed": false
   },
   "outputs": [],
   "source": [
    "from nsidc0530.interface import NSIDC0530\n",
    "\n",
    "sep_data = NSIDC0530(2012, 9, 1, ['merged_snow_cover_extent'], bounds)\n",
    "\n",
    "lat1 = sep_data.latitude\n",
    "lon1 = sep_data.longitude\n",
    "msce_sep = sep_data.merged_snow_cover_extent\n",
    "\n",
    "plt.figure(figsize=(10, 10))\n",
    "iceland_sep = Basemap(\n",
    "    projection='merc',\n",
    "    resolution='i',\n",
    "    urcrnrlat=bounds['n'],\n",
    "    llcrnrlat=bounds['s'],\n",
    "    urcrnrlon=bounds['e'],\n",
    "    llcrnrlon=bounds['w'],\n",
    ")\n",
    "iceland_sep.drawcoastlines()\n",
    "\n",
    "snow_ice_plot(iceland_sep, lat1, lon1, (msce_sep >= 10) & (msce_sep <= 16), 'Cyan', 500)\n",
    "snow_ice_plot(iceland_sep, lat1, lon1, msce_sep == 30, 'Blue', 500)"
   ]
  }
 ],
 "metadata": {
  "anaconda-cloud": {},
  "kernelspec": {
   "display_name": "Python 3",
   "language": "python",
   "name": "python3"
  },
  "language_info": {
   "codemirror_mode": {
    "name": "ipython",
    "version": 3
   },
   "file_extension": ".py",
   "mimetype": "text/x-python",
   "name": "python",
   "nbconvert_exporter": "python",
   "pygments_lexer": "ipython3",
   "version": "3.5.2"
  },
  "name": "module-2.ipynb"
 },
 "nbformat": 4,
 "nbformat_minor": 0
}
