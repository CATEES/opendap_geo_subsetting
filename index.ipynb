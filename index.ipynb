{
 "cells": [
  {
   "cell_type": "markdown",
   "metadata": {
    "ein.tags": [
     "worksheet-0"
    ]
   },
   "source": [
    "<p style=\"float:right\">\n",
    "<img src=\"nasa.png\" style=\"display:inline\" />\n",
    "</p>\n",
    "\n",
    "# Geographical Subsetting with OPeNDAP"
   ]
  },
  {
   "cell_type": "markdown",
   "metadata": {
    "ein.tags": [
     "worksheet-0"
    ]
   },
   "source": [
    "For this demonstration, we will examine the [_MEaSUREs Northern Hemisphere Terrestrial Snow Cover Extent Daily 25km EASE-Grid 2.0_](http://nsidc.org/data/docs/measures/nsidc-0530/) dataset from the [NASA MEaSUREs project](https://earthdata.nasa.gov/community/community-data-system-programs/measures-projects). This dataset is managed by [NSIDC DAAC](http://nsidc.org/data/measures/) and made available via, among other methods, the [OPeNDAP](https://en.wikipedia.org/wiki/OPeNDAP) protocol."
   ]
  },
  {
   "cell_type": "markdown",
   "metadata": {},
   "source": [
    "### Determining grid coordinates for a geographical area"
   ]
  },
  {
   "cell_type": "markdown",
   "metadata": {},
   "source": [
    "Let's say that we're interested only in data pertaining to Iceland. We can definte geographical bounds for our area of interest:"
   ]
  },
  {
   "cell_type": "code",
   "execution_count": null,
   "metadata": {
    "collapsed": true
   },
   "outputs": [],
   "source": [
    "lat_south = 63\n",
    "lat_north = 67\n",
    "lon_west = -25\n",
    "lon_east = -13"
   ]
  },
  {
   "cell_type": "markdown",
   "metadata": {},
   "source": [
    "As in the notebook _Variable Subsetting with OPeNDAP_, we will use the Python `netCDF4` package's built-in OPeNDAP client to access snow-cover data from June 1, 2012. In this case, we will request only the **latitude** and **longitude** variables:"
   ]
  },
  {
   "cell_type": "code",
   "execution_count": null,
   "metadata": {
    "collapsed": false
   },
   "outputs": [],
   "source": [
    "import netCDF4\n",
    "\n",
    "url0 = (\n",
    "    'http://n5eil01u.ecs.nsidc.org:80/opendap/'\n",
    "    'MEASURES/NSIDC-0530.001/2012.06.01/nhtsd25e2_20120601_v01r01.nc?'\n",
    "    'latitude[0:1:719][0:1:719],'\n",
    "    'longitude[0:1:719][0:1:719]'\n",
    ")\n",
    "\n",
    "dataset0 = netCDF4.Dataset(url0)\n",
    "\n",
    "for v in dataset0.variables:\n",
    "    print(v, dataset0.variables[v].shape)"
   ]
  },
  {
   "cell_type": "markdown",
   "metadata": {},
   "source": [
    "Instead of full 720 x 720 grids, we would like to constrain future OPeNDAP requests so that they return data only for the Iceland area. To do so, we'll use NumPy to obtain lists of grid rows and columns where both `latitude` and `longitude` values fall within the defined Iceland area, then take the minima and maxima of each list to construct bounding-box values we can pass to OPeNDAP:"
   ]
  },
  {
   "cell_type": "code",
   "execution_count": null,
   "metadata": {
    "collapsed": false
   },
   "outputs": [],
   "source": [
    "import numpy as np\n",
    "\n",
    "lat = dataset0.variables['latitude'][:, :]\n",
    "lon = dataset0.variables['longitude'][:, :]\n",
    "row, col = np.where((lat >= lat_south) & (lat <= lat_north) & (lon >= lon_west) & (lon <= lon_east))\n",
    "bbox = np.min(row), np.max(row), np.min(col), np.max(col)\n",
    "print(bbox)"
   ]
  },
  {
   "cell_type": "markdown",
   "metadata": {},
   "source": [
    "Now we can use our bounding-box values as constraints in our OPeNDAP URL to select just the rows and columnsthat correspond to Iceland. The OPeNDAP constraints are given in `lower_bound:stride:upper_bound` form:"
   ]
  },
  {
   "cell_type": "code",
   "execution_count": null,
   "metadata": {
    "collapsed": false
   },
   "outputs": [],
   "source": [
    "url1 = (\n",
    "    'http://n5eil01u.ecs.nsidc.org/opendap/'\n",
    "    'MEASURES/NSIDC-0530.001/2012.06.01/nhtsd25e2_20120601_v01r01.nc?'\n",
    "    'latitude[453:1:475][310:1:336],'\n",
    "    'longitude[453:1:475][310:1:336],'\n",
    "    'merged_snow_cover_extent[0:1:0][453:1:475][310:1:336]'\n",
    ")\n",
    "\n",
    "dataset1 = netCDF4.Dataset(url1)\n",
    "\n",
    "for v in dataset1.variables:\n",
    "    print(v, dataset1.variables[v].shape)"
   ]
  },
  {
   "cell_type": "markdown",
   "metadata": {},
   "source": [
    "That's a lot less data!\n",
    "\n",
    "Finally, we can plot our data on a map of Iceland, using code similar to that shown in the notebook _Variable Subsetting with OPeNDAP_:"
   ]
  },
  {
   "cell_type": "code",
   "execution_count": null,
   "metadata": {
    "collapsed": false
   },
   "outputs": [],
   "source": [
    "%matplotlib inline\n",
    "from mpl_toolkits.basemap import Basemap\n",
    "import matplotlib.pyplot as plt\n",
    "\n",
    "plt.figure(figsize=(10, 10))\n",
    "iceland_map = Basemap(\n",
    "    projection='merc',\n",
    "    resolution='i',\n",
    "    llcrnrlon=lon_west,\n",
    "    llcrnrlat=lat_south,\n",
    "    urcrnrlon=lon_east,\n",
    "    urcrnrlat=lat_north\n",
    ")\n",
    "iceland_map.drawcoastlines()\n",
    "\n",
    "latitude = dataset1.variables['latitude'][:, :]\n",
    "longitude = dataset1.variables['longitude'][:, :]\n",
    "msce = dataset1.variables['merged_snow_cover_extent'][0, :, :]\n",
    "\n",
    "row_snow, col_snow = np.where((msce >= 10) & (msce <= 16))\n",
    "x_snow, y_snow = iceland_map(longitude[row_snow, col_snow], latitude[row_snow, col_snow])\n",
    "iceland_map.scatter(x_snow, y_snow, marker='s', s=400, color='Cyan')\n",
    "\n",
    "row_ice, col_ice = np.where(msce == 30)\n",
    "x_ice, y_ice = iceland_map(longitude[row_ice, col_ice], latitude[row_ice, col_ice])\n",
    "iceland_map.scatter(x_ice, y_ice, marker='s', s=400, color='Blue')"
   ]
  }
 ],
 "metadata": {
  "anaconda-cloud": {},
  "kernelspec": {
   "display_name": "Python 3",
   "language": "python",
   "name": "python3"
  },
  "language_info": {
   "codemirror_mode": {
    "name": "ipython",
    "version": 3
   },
   "file_extension": ".py",
   "mimetype": "text/x-python",
   "name": "python",
   "nbconvert_exporter": "python",
   "pygments_lexer": "ipython3",
   "version": "3.5.2"
  },
  "name": "module-2.ipynb"
 },
 "nbformat": 4,
 "nbformat_minor": 0
}
